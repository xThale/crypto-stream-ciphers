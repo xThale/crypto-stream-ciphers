{
 "cells": [
  {
   "cell_type": "code",
   "execution_count": 1,
   "metadata": {},
   "outputs": [],
   "source": [
    "import pygraphviz as pgv\n",
    "from IPython.display import Image\n",
    "\n",
    "state_graph = pgv.AGraph(directed=True)\n",
    "state_graph.node_attr['shape']='circle'\n",
    "\n",
    "def plot_edge(state_1, state_2):\n",
    "    state_graph.add_edge(state_1, state_2)\n",
    "    state_graph.string()\n",
    "    \n",
    "\n",
    "def plot(graph):\n",
    "    return Image(pgv.AGraph(graph).draw(format='png', prog='neato'))\n",
    "\n",
    "def get_state(state):\n",
    "    return int(\"\".join(str(x) for x in state), 2)"
   ]
  },
  {
   "cell_type": "code",
   "execution_count": 2,
   "metadata": {},
   "outputs": [],
   "source": [
    "register_length = 5\n",
    "tapped_cells = [0,1]\n",
    "\n",
    "initial_state = [1,1,0,1,1] # 27"
   ]
  },
  {
   "cell_type": "code",
   "execution_count": 4,
   "metadata": {},
   "outputs": [],
   "source": [
    "initial_state = [0,0,1,1,1] # 7"
   ]
  },
  {
   "cell_type": "code",
   "execution_count": 6,
   "metadata": {},
   "outputs": [],
   "source": [
    "initial_state = [0,0,0,0,1] # 1"
   ]
  },
  {
   "cell_type": "code",
   "execution_count": null,
   "metadata": {},
   "outputs": [],
   "source": [
    "state_list = []\n",
    "next_state = None\n",
    "state = initial_state\n",
    "\n",
    "while next_state not in state_list:\n",
    "  # feedback function calcucates new bit\n",
    "  new_bit = 0\n",
    "  for tapped_cell in tapped_cells:\n",
    "    new_bit = (new_bit + state[tapped_cell]) % 2\n",
    "  \n",
    "  # get state before shift\n",
    "  current_state = get_state(state)\n",
    "  state_list.append(current_state)\n",
    "\n",
    "  # shift content of memory cells\n",
    "  shifted_out_bit = state[0]\n",
    "  for i in range(register_length - 1):\n",
    "    state[i] = state[i+1]\n",
    "  state[register_length - 1] = new_bit\n",
    "  \n",
    "  # get state after shift\n",
    "  next_state = get_state(state)\n",
    "  plot_edge(current_state, next_state)\n",
    "\n",
    "plot(state_graph.string())"
   ]
  },
  {
   "cell_type": "code",
   "execution_count": null,
   "metadata": {},
   "outputs": [],
   "source": []
  }
 ],
 "metadata": {
  "interpreter": {
   "hash": "5bf8ea8f38c200d2a07c540cb859cf06b25ffcb17d69e1f67e154e295549314e"
  },
  "kernelspec": {
   "display_name": "Python 3.7.11 ('yolov5')",
   "language": "python",
   "name": "python3"
  },
  "language_info": {
   "codemirror_mode": {
    "name": "ipython",
    "version": 3
   },
   "file_extension": ".py",
   "mimetype": "text/x-python",
   "name": "python",
   "nbconvert_exporter": "python",
   "pygments_lexer": "ipython3",
   "version": "3.7.11"
  },
  "orig_nbformat": 4
 },
 "nbformat": 4,
 "nbformat_minor": 2
}
